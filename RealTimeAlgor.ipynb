{
  "nbformat": 4,
  "nbformat_minor": 0,
  "metadata": {
    "colab": {
      "name": "RealTimeAlgor.ipynb",
      "provenance": [],
      "collapsed_sections": []
    },
    "kernelspec": {
      "name": "python3",
      "display_name": "Python 3"
    },
    "language_info": {
      "name": "python"
    }
  },
  "cells": [
    {
      "cell_type": "code",
      "execution_count": null,
      "metadata": {
        "id": "gZsw_Sq9ZUi0"
      },
      "outputs": [],
      "source": [
        "# Imports\n",
        "\n",
        "import librosa\n",
        "import matplotlib.pyplot as plt\n",
        "import numpy as np\n",
        "import scipy\n",
        "import pandas as pd\n",
        "import time\n",
        "\n",
        "\n",
        "# for RAM managment\n",
        "import gc\n",
        "import sys\n"
      ]
    },
    {
      "cell_type": "markdown",
      "metadata": {
        "id": "h3KJLncDvLwA"
      },
      "source": [
        "## 1. The file is loaded and some features are already extracted.\n"
      ]
    },
    {
      "cell_type": "code",
      "execution_count": null,
      "metadata": {
        "id": "ZzDv11GdXefB",
        "colab": {
          "base_uri": "https://localhost:8080/"
        },
        "outputId": "2f703d64-92e5-43ee-a282-818ebb3f02e4"
      },
      "outputs": [
        {
          "output_type": "execute_result",
          "data": {
            "text/plain": [
              "579.4484353741497"
            ]
          },
          "metadata": {},
          "execution_count": 2
        }
      ],
      "source": [
        "#audio_filename = '/content/drive/MyDrive/TFG/Marco Mezquida DB/test.wav'\n",
        "audio_filename = '/content/drive/MyDrive/TFG/synthetic_data/mixed.wav'\n",
        "boundaries_file = '/content/drive/MyDrive/TFG/synthetic_data/boundaries_mixed.txt'\n",
        "\n",
        "\n",
        "signal, sample_rate = librosa.load(audio_filename, mono = True)\n",
        "duration = len(signal) / sample_rate \n",
        "duration"
      ]
    },
    {
      "cell_type": "markdown",
      "source": [
        "# 3. Real Time Algorithm\n",
        "\n",
        "Using dynamic MFCCs, SSM and peak detector algorithm"
      ],
      "metadata": {
        "id": "bpaef4a8hYvF"
      }
    },
    {
      "cell_type": "code",
      "source": [
        "#@title\n",
        "def RealTimeSegmentation(signal, sample_rate, listened_duration, detection_delay):\n",
        "\n",
        "  start_time = time.time()\n",
        "\n",
        "\n",
        "  FFT_size = 8192\n",
        "  N_mel_filt = 40\n",
        "  N_mel_coef = 20\n",
        "  Kernel_size = 256\n",
        "  offset = 0.45\n",
        "  medi_filter_size = 83\n",
        "\n",
        "  duration = len(signal) / sample_rate\n",
        "\n",
        "\n",
        "\n",
        "  # Constant parameters\n",
        "  w = np.hamming(FFT_size)    # Hamming window\n",
        "\n",
        "\n",
        "  S = librosa.feature.melspectrogram(signal, sr = sample_rate, n_fft = FFT_size, window = w, n_mels = N_mel_filt)\n",
        "  db_S = librosa.amplitude_to_db(S, ref=np.max)\n",
        "\n",
        "\n",
        "  mfcc = librosa.feature.mfcc(S = db_S, n_mfcc = N_mel_coef)\n",
        "\n",
        "\n",
        "  #D = scipy.spatial.distance.pdist(mfcc.T, metric = \"euclidean\")\n",
        "  #D = scipy.spatial.distance.pdist(mfcc.T, metric = \"cosine\")\n",
        "  #D = scipy.spatial.distance.pdist(mfcc.T, metric = \"correlation\")\n",
        "  D = scipy.spatial.distance.pdist(mfcc.T, metric = \"canberra\")\n",
        "\n",
        "  SSM = scipy.spatial.distance.squareform(D)\n",
        "  SSM /= D.max()  \n",
        "\n",
        "\n",
        "  # Gaussian vector\n",
        "  g = scipy.signal.gaussian(M = Kernel_size, std = Kernel_size/3, sym=True)\n",
        "  # 3D Gaussian \n",
        "  G = np.dot(g.reshape(-1, 1), g.reshape(1, -1))\n",
        "  # dividing the 3D Gaussian matrix into 4 squares and multiplying -1 and +1\n",
        "  G[Kernel_size//2:, :Kernel_size//2] = -G[Kernel_size//2:, :Kernel_size//2]\n",
        "  G[:Kernel_size//2, Kernel_size//2:] = -G[:Kernel_size//2, Kernel_size//2:]\n",
        "\n",
        "\n",
        "  novelty_curve = np.zeros(SSM.shape[1])\n",
        "\n",
        "  N = SSM.shape[0]\n",
        "  L = G.shape[0]\n",
        "\n",
        "  for i in range( L//2, N - L//2 + 1):\n",
        "    novelty_curve[i] = np.sum(SSM[i - L//2:i + L//2, i - L//2:i + L//2] * G)\n",
        "    # If this is carashing, your L is an odd number, therefore the broadcast crahes since // returns a rounded down number\n",
        "        \n",
        "  novelty_curve = np.abs(novelty_curve)\n",
        "\n",
        "  # Normalize\n",
        "  novelty_curve += novelty_curve.min()\n",
        "  novelty_curve /= novelty_curve.max()\n",
        "\n",
        "\n",
        "  time_axis = np.linspace(0, duration, len(novelty_curve))\n",
        "\n",
        "\n",
        "  # Peak detection algorithm \n",
        "    # in the paper theres another algorithm, maybe try it\n",
        "  threshold = scipy.ndimage.filters.median_filter(novelty_curve, size = medi_filter_size) + novelty_curve.mean()*offset\n",
        "  peaks = []\n",
        "\n",
        "  for i in range(1, novelty_curve.shape[0] - 1):\n",
        "      # is it a peak?\n",
        "    if novelty_curve[i - 1] < novelty_curve[i] and novelty_curve[i] > novelty_curve[i + 1]:\n",
        "      # is it above the threshold?\n",
        "      if novelty_curve[i] > threshold[i]:\n",
        "        peaks.append(i)\n",
        "\n",
        "  peaks = np.array(peaks)*(duration/len(novelty_curve))\n",
        "\n",
        "\n",
        "\n",
        "  # Force python to free RAM after each exec\n",
        "  del D\n",
        "  del SSM\n",
        "  gc.collect()\n",
        "\n",
        "\n",
        "  # Output in real time execution\n",
        "  print('Length analyzed: ' + str(listened_duration) + '\\t Execution time: ' + str(time.time() - start_time))\n",
        "  \n",
        "  # Detection of new transition between segments\n",
        "  for peak in peaks:\n",
        "    if peak > (listened_duration - detection_delay):\n",
        "      print( 'Boundrie estimatation at: ' + str(peak) + 'sec')\n",
        "      detected_peaks.append(peak)\n",
        "  print('\\n')\n",
        "\n",
        "  return (time.time() - start_time)\n"
      ],
      "metadata": {
        "id": "ow__ZLem-Yh7",
        "cellView": "form"
      },
      "execution_count": null,
      "outputs": []
    },
    {
      "cell_type": "code",
      "source": [
        "#listened_duration = 540 # se deberia pasar por parametro, corresponde a la duracin acumulada en el instante\n",
        "\n",
        "time_of_start = 10   #seconds\n",
        "time_step = 5        #seconds\n",
        "detection_delay = 5  #seconds\n",
        "\n",
        "time_exe = []\n",
        "\n",
        "detected_peaks = []\n",
        "\n",
        "# We process an evolving chunk of the signal to simulate real-time processing.\n",
        "for listened_duration in range(time_of_start, round(duration) + time_step, time_step):\n",
        "  exec_time = RealTimeSegmentation(signal[:listened_duration*sample_rate], sample_rate, listened_duration, detection_delay)\n",
        "  time_exe.append([listened_duration, exec_time])\n",
        "\n",
        "\n",
        "\n"
      ],
      "metadata": {
        "id": "iaMCiUacrK3w"
      },
      "execution_count": null,
      "outputs": []
    },
    {
      "cell_type": "markdown",
      "source": [
        "# Execution time vs. length graph"
      ],
      "metadata": {
        "id": "KDFpoeqUJ4DU"
      }
    },
    {
      "cell_type": "code",
      "source": [
        "# graph of execution time vs length of the signal\n",
        "durations = []\n",
        "executions_t = []\n",
        "results = pd.DataFrame(columns = ['Signal Length', 'Computation Time'])\n",
        "for inpu in time_exe:\n",
        "  durations.append(inpu[0])\n",
        "  executions_t.append(inpu[1])\n",
        "  results.loc[len(results), :] = [inpu[0], inpu[1]]\n",
        "\n",
        "results.to_csv('/content/drive/MyDrive/TFG/Manhattan_5sec_ComplPast.csv', sep=',')\n",
        "\n",
        "plt.plot(durations, executions_t)\n",
        "plt.title('Time of computation depending on Length of the signal')\n",
        "plt.xlabel('Length of signal (seconds)')\n",
        "plt.ylabel('computation time (seconds)')\n",
        "\n",
        "xval=np.interp(5, executions_t, durations)\n",
        "\n",
        "plt.annotate(str(int(xval)) + 's', (xval, 5), xytext=(150, 10),\n",
        "            arrowprops=dict(facecolor='black', shrink=0.05),\n",
        "            )\n",
        "\n",
        "xval=np.interp(3, executions_t, durations)\n",
        "plt.annotate(str(int(xval)) + 's', (xval, 3), xytext=(80, 10),\n",
        "            arrowprops=dict(facecolor='black', shrink=0.05),\n",
        "            )\n",
        "\n",
        "xval=np.interp(1, executions_t, durations)\n",
        "plt.annotate(str(int(xval)) + 's', (xval, 1), xytext=(30, 10),\n",
        "            arrowprops=dict(facecolor='black', shrink=0.05),\n",
        "            )"
      ],
      "metadata": {
        "id": "2V1CLOR1yhPK",
        "colab": {
          "base_uri": "https://localhost:8080/",
          "height": 312
        },
        "outputId": "2ea7b839-0324-4141-9e98-d627d0b4fce5"
      },
      "execution_count": null,
      "outputs": [
        {
          "output_type": "execute_result",
          "data": {
            "text/plain": [
              "Text(30, 10, '62s')"
            ]
          },
          "metadata": {},
          "execution_count": 51
        },
        {
          "output_type": "display_data",
          "data": {
            "text/plain": [
              "<Figure size 432x288 with 1 Axes>"
            ],
            "image/png": "[encoded data removed]"
          },
          "metadata": {
            "needs_background": "light"
          }
        }
      ]
    },
    {
      "cell_type": "markdown",
      "source": [
        "## 2. Points where the boundarie should be detected"
      ],
      "metadata": {
        "id": "0hT1Bnq5vdhr"
      }
    },
    {
      "cell_type": "code",
      "source": [
        "# segment_boundaries = [10, 20, 30, 40, 50, 54]   # in sec        FOR THE test.wav FILE\n",
        "with open(boundaries_file) as file:\n",
        "    segment_boundaries = [round(float(line.rstrip('\\n')), 3) for line in file]\n",
        "\n",
        "margin = 2.5           # in sec; 200 ms \n",
        "len(segment_boundaries)"
      ],
      "metadata": {
        "id": "EIE44gHovgtR",
        "colab": {
          "base_uri": "https://localhost:8080/"
        },
        "outputId": "6be6629a-219b-4413-afb7-adbbe048f45a"
      },
      "execution_count": null,
      "outputs": [
        {
          "output_type": "execute_result",
          "data": {
            "text/plain": [
              "60"
            ]
          },
          "metadata": {},
          "execution_count": 52
        }
      ]
    },
    {
      "cell_type": "markdown",
      "source": [
        "## 2.1 Evaluation sampled signal"
      ],
      "metadata": {
        "id": "Io5kJnLVzRwI"
      }
    },
    {
      "cell_type": "code",
      "source": [
        "annotation_vector = []\n",
        "\n",
        "duration_ms = int(np.ceil(duration*1000))# we need to process it in miliseconds\n",
        "periode = int((margin*1000)*2)\n",
        "#print(str(periode) + 'ms')\n",
        "#print(str(duration_ms) + 'ms')\n",
        "\n",
        "# we want the annotated boundaries to be in the center of the periodes, therefore we need the first periode to be 250ms and all the others 500ms.\n",
        "\n",
        "for i in range(0, duration_ms, periode):\n",
        "  if True in (i-periode/2 <= x*1000 < i + periode/2 for x in segment_boundaries):\n",
        "    annotation_vector.append(True)\n",
        "  else:\n",
        "    annotation_vector.append(False)\n"
      ],
      "metadata": {
        "id": "wyPgXmDOzW1y"
      },
      "execution_count": null,
      "outputs": []
    },
    {
      "cell_type": "markdown",
      "source": [
        "# 3.1 Evaluation of results"
      ],
      "metadata": {
        "id": "4cMuGo0RDc72"
      }
    },
    {
      "cell_type": "code",
      "source": [
        "# plot of peaks\n",
        "time_axis = np.linspace(0, duration, len(signal))\n",
        "\n",
        "plt.figure(1, figsize=(10, 4))\n",
        "plt.plot(time_axis, signal)\n",
        "for peak in detected_peaks:\n",
        "    plt.axvline(peak, color=\"r\")\n",
        "plt.show()\n",
        "print('Number of peaks estimated: ' + str(len(detected_peaks)))\n"
      ],
      "metadata": {
        "colab": {
          "base_uri": "https://localhost:8080/",
          "height": 282
        },
        "id": "icw-bi9SDcWE",
        "outputId": "de36195c-d1b3-4e38-a3a6-eeb86e62f123"
      },
      "execution_count": null,
      "outputs": [
        {
          "output_type": "display_data",
          "data": {
            "text/plain": [
              "<Figure size 720x288 with 1 Axes>"
            ],
            "image/png": "[encoded data removed]"
          },
          "metadata": {
            "needs_background": "light"
          }
        },
        {
          "output_type": "stream",
          "name": "stdout",
          "text": [
            "Number of peaks estimated: 43\n"
          ]
        }
      ]
    },
    {
      "cell_type": "code",
      "source": [
        "# SCORING COMPUTATION\n",
        "\n",
        "# We create a vector like the evaluation vector, but allocating the boundaries estimated.\n",
        "estimation_vector = [False] * len(annotation_vector)\n",
        "\n",
        "# First shorter period\n",
        "if True in (0 <= x*1000 < periode//2 for x in detected_peaks):\n",
        "  estimation_vector[0] = True\n",
        "\n",
        "# all the rest\n",
        "for i in range(0, duration_ms, periode):# we need to process it in miliseconds\n",
        "  if True in (i-periode/2 <= x*1000 < i + periode/2 for x in detected_peaks):\n",
        "    estimation_vector[i//periode] = True\n",
        "\n",
        "\n",
        "\n",
        "# Using the confusion matrix and its metrics, we asign a score\n",
        "# True Positive   ->   An annotated boundarie aligns with one (or more) peaks       ->  True - True     ->  AND\n",
        "# True Negative   ->   A period without annotations aligns with NO peaks            ->  False - False   ->  NOT(OR)\n",
        "# False Negative  ->   An annotated boundarie aligns with NO peaks                  ->  True - False    ->  Abjunction (Material nonimplication)\n",
        "# False Positive  ->   A period without annotations aligns with a peak              ->  False - True    ->  N peaks - TP)\n",
        "\n",
        "tp_vector = [False] * len(annotation_vector)\n",
        "tn_vector = [False] * len(annotation_vector)\n",
        "fn_vector = [False] * len(annotation_vector)\n",
        "fp_vector = [False] * len(annotation_vector)\n",
        "for i in range(0, len(annotation_vector)):\n",
        "  tp_vector[i] = annotation_vector[i] and estimation_vector[i]\n",
        "  tn_vector[i] = not(annotation_vector[i] or estimation_vector[i])\n",
        "  fn_vector[i] = annotation_vector[i] and not(estimation_vector[i])\n",
        "  fp_vector[i] = estimation_vector[i] and not(annotation_vector[i])\n",
        "\n",
        "\n",
        "TP = sum(tp_vector)\n",
        "TN = sum(tn_vector)\n",
        "FN = sum(fn_vector)\n",
        "FP = sum(fp_vector)\n",
        "\n",
        "# FN = [(annotation_vector[i] and not(estimation_vector[i])) for i in range(0, len(annotation_vector))]\n",
        "\n",
        "if len(detected_peaks) == 0:\n",
        "  recall = 0\n",
        "  TNR = 0\n",
        "  precision = 0\n",
        "  false_positive_rate = 1\n",
        "  Fscore = 0\n",
        "else:\n",
        "  recall = TP / (TP + FN)         # sensitivity, recall, hit rate, or true positive rate (TPR)\n",
        "  TNR = TN / (TN + FP)          # specificity, selectivity or true negative rate (TNR)\n",
        "\n",
        "  precision = TP / (TP + FP)    # precision or positive predictive value (PPV)  -> BETTER FOR IMBALANCED DATASETS WITH MORE NEGATIVE SAMPLES  \n",
        "\n",
        "  false_positive_rate = FP / (FP + TN)      # fall-out or false positive rate (FPR)\n",
        "\n",
        "  Fscore = (2*TP) / (2*TP + FP + FN)      # F1 score - is the harmonic mean of precision and sensitivity:\n",
        "\n",
        "\n",
        "confM = [TP, TN, FN, FP]\n",
        "\n",
        "#results_dict[fft_iter][filt_iter][coef_iter][kern_iter][offset_iter][mfilter_iter] = [precision, recall, TNR, false_positive_rate]\n",
        "print('Precision: \\t'+ str(precision))\n",
        "print('Fscore: \\t'+ str(Fscore))\n",
        "print('Confusion Matrix: [TP, TN, FN, FP] = ' + str(confM))\n",
        "print('Correct detections: \\t' + str(TP/len(segment_boundaries)) + '%')"
      ],
      "metadata": {
        "colab": {
          "base_uri": "https://localhost:8080/"
        },
        "id": "9pRpNNA0D96l",
        "outputId": "7f103189-d443-470d-cc05-0932c4e7cf00"
      },
      "execution_count": null,
      "outputs": [
        {
          "output_type": "stream",
          "name": "stdout",
          "text": [
            "Precision: \t0.5384615384615384\n",
            "Fscore: \t0.42857142857142855\n",
            "Confusion Matrix: [TP, TN, FN, FP] = [21, 39, 38, 18]\n",
            "Correct detections: \t0.35%\n"
          ]
        }
      ]
    }
  ]
}